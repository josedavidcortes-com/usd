{
  "cells": [
    {
      "cell_type": "code",
      "execution_count": 32,
      "metadata": {
        "id": "koZjtXIBAJ7X"
      },
      "outputs": [],
      "source": [
        "import numpy as np\n",
        "import random\n",
        "import matplotlib.pyplot as plt\n",
        "from sklearn import datasets\n",
        "from sklearn.model_selection import train_test_split\n",
        "from sklearn.naive_bayes import GaussianNB"
      ]
    },
    {
      "cell_type": "code",
      "execution_count": 33,
      "metadata": {
        "colab": {
          "base_uri": "https://localhost:8080/"
        },
        "id": "vmRfdXh9RFoc",
        "outputId": "79bf27ce-bb4f-43ed-c961-d964d5311a90"
      },
      "outputs": [
        {
          "name": "stdout",
          "output_type": "stream",
          "text": [
            "kids { \n",
            "[[  7  52   0]\n",
            " [  9 111   0]\n",
            " [ 13  26   0]]\n",
            "}\n",
            ".....................\n",
            "Adults { \n",
            "[[ 26 259   1]\n",
            " [ 37 112   1]\n",
            " [ 17 272   1]]\n",
            "}\n"
          ]
        }
      ],
      "source": [
        "\"\"\"\n",
        "a) Generate 100 random coordinate points (2D data representing height (h) and weight (w)) and label them a class: ‘kid’. \n",
        "\"\"\"\n",
        "kids = np.random.randint([1, 20, 0], [20, 150, 1], size=(100, 3))\n",
        "\n",
        "\"\"\"\n",
        "b) Follow exact same procedure for generating 100 data for another class: ‘adult’. \n",
        "Make sure that they are not completely separated.\n",
        "\"\"\"\n",
        "adults = np.random.randint([10, 100, 1], [60, 300, 2], size=(100, 3))\n",
        "print('kids { ')\n",
        "print(kids[:3])\n",
        "print('}')\n",
        "print('.....................')\n",
        "print('Adults { ')\n",
        "print(adults[:3])\n",
        "print('}')"
      ]
    },
    {
      "cell_type": "code",
      "execution_count": 34,
      "metadata": {
        "colab": {
          "base_uri": "https://localhost:8080/"
        },
        "id": "iR8J0Q-sOKtd",
        "outputId": "393e36d2-f5d7-44f1-f4ea-e7d908f32761"
      },
      "outputs": [
        {
          "data": {
            "text/plain": [
              "array([[ 14,  96,   0],\n",
              "       [ 13, 125,   0],\n",
              "       [ 18, 129,   0],\n",
              "       [ 26, 259,   1],\n",
              "       [ 37, 112,   1],\n",
              "       [ 17, 272,   1]])"
            ]
          },
          "execution_count": 34,
          "metadata": {},
          "output_type": "execute_result"
        }
      ],
      "source": [
        "df = np.concatenate((kids, adults))\n",
        "df[97:103]"
      ]
    },
    {
      "cell_type": "code",
      "execution_count": 35,
      "metadata": {
        "colab": {
          "base_uri": "https://localhost:8080/"
        },
        "id": "fZw9VCdqOdNh",
        "outputId": "2120d020-a174-47f9-c71a-0927823f7e22"
      },
      "outputs": [
        {
          "name": "stdout",
          "output_type": "stream",
          "text": [
            "[0 0 0 0 0 0 0 0 0 0 0 0 0 0 0 0 0 0 0 0 0 0 0 0 0 0 0 0 0 0 0 0 0 0 0 0 0\n",
            " 0 0 0 0 0 0 0 0 0 0 0 0 0 0 0 0 0 0 0 0 0 0 0 0 0 0 0 0 0 0 0 0 0 0 0 0 0\n",
            " 0 0 0 0 0 0 0 0 0 0 0 0 0 0 0 0 0 0 0 0 0 0 0 0 0 0 1 1 1 1 1 1 1 1 1 1 1\n",
            " 1 1 1 1 1 1 1 1 1 1 1 1 1 1 1 1 1 1 1 1 1 1 1 1 1 1 1 1 1 1 1 1 1 1 1 1 1\n",
            " 1 1 1 1 1 1 1 1 1 1 1 1 1 1 1 1 1 1 1 1 1 1 1 1 1 1 1 1 1 1 1 1 1 1 1 1 1\n",
            " 1 1 1 1 1 1 1 1 1 1 1 1 1 1 1]\n"
          ]
        }
      ],
      "source": [
        "classifier = df[:,-1]\n",
        "data = df[:,0:2]\n",
        "print(classifier)"
      ]
    },
    {
      "cell_type": "code",
      "execution_count": 36,
      "metadata": {
        "id": "kJDlx01tRHgI"
      },
      "outputs": [],
      "source": [
        "\"\"\"\n",
        "c) Train 80% of them using Gaussian classify and compute their prior probabilities (for both classes).\n",
        "d) Test the models using the remaining 20% of the data and check whether you build your model right.\n",
        "   (hint: posterior probability can help you compute this). \n",
        "\"\"\"\n",
        "X_train, X_test, y_train, y_test = train_test_split( data , classifier , test_size = 0.20)\n"
      ]
    },
    {
      "cell_type": "code",
      "execution_count": 37,
      "metadata": {
        "colab": {
          "base_uri": "https://localhost:8080/"
        },
        "id": "k4WccG12RJOO",
        "outputId": "51c2ceac-6b30-4931-ff26-d2572a5271bf"
      },
      "outputs": [
        {
          "data": {
            "text/plain": [
              "GaussianNB()"
            ]
          },
          "execution_count": 37,
          "metadata": {},
          "output_type": "execute_result"
        }
      ],
      "source": [
        "modelG = GaussianNB()\n",
        "modelG.fit(X_train, y_train)"
      ]
    },
    {
      "cell_type": "code",
      "execution_count": 38,
      "metadata": {
        "colab": {
          "base_uri": "https://localhost:8080/"
        },
        "id": "ea5YKZgfE2Vu",
        "outputId": "e6e73632-ea25-465b-a690-d283ebfb49b2"
      },
      "outputs": [
        {
          "name": "stdout",
          "output_type": "stream",
          "text": [
            "Trained Data:  0.96875\n",
            "Test Data Result:  0.95\n"
          ]
        }
      ],
      "source": [
        "print(\"Trained Data: \",modelG.score(X_train,y_train))\n",
        "print(\"Test Data Result: \", modelG.score(X_test,y_test))"
      ]
    },
    {
      "cell_type": "code",
      "execution_count": 39,
      "metadata": {
        "colab": {
          "base_uri": "https://localhost:8080/"
        },
        "id": "ISJ5KN3MTTLf",
        "outputId": "877f7ced-dfc7-4569-9932-258d945cf600"
      },
      "outputs": [
        {
          "name": "stdout",
          "output_type": "stream",
          "text": [
            "0.50625\n",
            "0.49375\n"
          ]
        }
      ],
      "source": [
        "\"\"\"\n",
        "(hint: posterior probability can help you compute this). \n",
        "\"\"\"\n",
        "probability_Kids = sum(y_train)\n",
        "total = len(y_train)\n",
        "\n",
        "first_Kids = probability_Kids / total\n",
        "first_Adults = 1 - first_Kids\n",
        "\n",
        "print(first_Kids) \n",
        "print(first_Adults)"
      ]
    },
    {
      "cell_type": "code",
      "execution_count": 40,
      "metadata": {
        "colab": {
          "base_uri": "https://localhost:8080/"
        },
        "id": "b7e5o9v0T6Hs",
        "outputId": "0cf84c87-86cc-42ac-fd2e-7e5afb10d28c"
      },
      "outputs": [
        {
          "name": "stdout",
          "output_type": "stream",
          "text": [
            "0.95\n"
          ]
        }
      ],
      "source": [
        "model = GaussianNB(priors=[first_Kids, first_Adults])\n",
        "\n",
        "model.fit(X_train, y_train)\n",
        "print(model.score(X_test, y_test))"
      ]
    }
  ],
  "metadata": {
    "colab": {
      "collapsed_sections": [],
      "name": "GaussianClassifier.ipynb",
      "provenance": []
    },
    "kernelspec": {
      "display_name": "Python 3",
      "name": "python3"
    },
    "language_info": {
      "name": "python"
    }
  },
  "nbformat": 4,
  "nbformat_minor": 0
}
